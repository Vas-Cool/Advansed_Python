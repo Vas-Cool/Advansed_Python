{
 "cells": [
  {
   "cell_type": "markdown",
   "metadata": {},
   "source": [
    "#### Чтение txt файла и запись данных в csv файл"
   ]
  },
  {
   "cell_type": "code",
   "execution_count": 4,
   "metadata": {},
   "outputs": [],
   "source": [
    "import csv"
   ]
  },
  {
   "cell_type": "code",
   "execution_count": 13,
   "metadata": {},
   "outputs": [],
   "source": [
    "def read_from_txt_file(path_in, delimiter_param, number_rows):\n",
    "    data = []\n",
    "    with open(path_in, 'r') as in_file:\n",
    "        lines = (line.split(delimiter_param, number_rows - 1) for line in in_file)\n",
    "        for line in lines:\n",
    "            temp = []\n",
    "            for elem in line:\n",
    "                elem_ = elem.lstrip(' ')\n",
    "                elem = elem_.rstrip('\\n')\n",
    "                temp.append(elem_)\n",
    "            temp[-1] = temp[-1].rstrip('\\n')\n",
    "            data.append(temp)\n",
    "            #print(temp)\n",
    "    #print(data)\n",
    "    return data"
   ]
  },
  {
   "cell_type": "code",
   "execution_count": 14,
   "metadata": {},
   "outputs": [],
   "source": [
    "def write_in_csv_file(path_out, data, delimiter_param):\n",
    "    with open(path_out, 'w') as out_file:\n",
    "        writer = csv.writer(out_file, delimiter = delimiter_param)\n",
    "        for line in data:\n",
    "            #print(line)\n",
    "            writer.writerow(line)\n",
    "    return"
   ]
  },
  {
   "cell_type": "code",
   "execution_count": 15,
   "metadata": {
    "scrolled": true
   },
   "outputs": [],
   "source": [
    "data = read_from_txt_file('info_1.txt', ':', 2)\n",
    "write_in_csv_file('info_1.csv', data, ';')"
   ]
  },
  {
   "cell_type": "markdown",
   "metadata": {},
   "source": [
    "#### Чтение csv и запись данных в json файл"
   ]
  },
  {
   "cell_type": "code",
   "execution_count": 20,
   "metadata": {},
   "outputs": [],
   "source": [
    "import csv\n",
    "import json"
   ]
  },
  {
   "cell_type": "code",
   "execution_count": 21,
   "metadata": {},
   "outputs": [],
   "source": [
    "with open('write.csv') as f:\n",
    "    reader = csv.DictReader(f)\n",
    "    rows = list(reader)\n",
    "\n",
    "with open('write.json', 'w') as f:\n",
    "    json.dump(rows, f)"
   ]
  },
  {
   "cell_type": "markdown",
   "metadata": {},
   "source": [
    "#### Чтение json"
   ]
  },
  {
   "cell_type": "code",
   "execution_count": 19,
   "metadata": {},
   "outputs": [
    {
     "name": "stdout",
     "output_type": "stream",
     "text": [
      "{'orders': []}\n"
     ]
    }
   ],
   "source": [
    "import json\n",
    "from pprint import pprint\n",
    "\n",
    "\n",
    "with open('orders.json') as file:\n",
    "    pprint(json.load(file))"
   ]
  },
  {
   "cell_type": "code",
   "execution_count": null,
   "metadata": {},
   "outputs": [],
   "source": []
  }
 ],
 "metadata": {
  "kernelspec": {
   "display_name": "Python 3",
   "language": "python",
   "name": "python3"
  },
  "language_info": {
   "codemirror_mode": {
    "name": "ipython",
    "version": 3
   },
   "file_extension": ".py",
   "mimetype": "text/x-python",
   "name": "python",
   "nbconvert_exporter": "python",
   "pygments_lexer": "ipython3",
   "version": "3.7.1"
  }
 },
 "nbformat": 4,
 "nbformat_minor": 2
}
